{
 "cells": [
  {
   "cell_type": "code",
   "execution_count": 1,
   "metadata": {
    "collapsed": false
   },
   "outputs": [],
   "source": [
    "import numpy as np\n",
    "import pandas as pd\n",
    "\n",
    "import matplotlib.pyplot as plt\n",
    "%matplotlib inline\n",
    "\n",
    "import seaborn as sns\n",
    "import matplotlib.pyplot as plt\n",
    "\n",
    "from sklearn.neighbors import KNeighborsClassifier\n",
    "from sklearn.model_selection import train_test_split\n",
    "from sklearn.cluster import KMeans "
   ]
  },
  {
   "cell_type": "code",
   "execution_count": 2,
   "metadata": {
    "collapsed": false
   },
   "outputs": [],
   "source": [
    "df_train = pd.read_csv('train.csv')\n",
    "df_test = pd.read_csv('test.csv')\n",
    "frames = [df_train, df_test]\n",
    "df_total = pd.concat(frames)"
   ]
  },
  {
   "cell_type": "code",
   "execution_count": 3,
   "metadata": {
    "collapsed": false
   },
   "outputs": [
    {
     "data": {
      "text/html": [
       "<div>\n",
       "<table border=\"1\" class=\"dataframe\">\n",
       "  <thead>\n",
       "    <tr style=\"text-align: right;\">\n",
       "      <th></th>\n",
       "      <th>PassengerId</th>\n",
       "      <th>Survived</th>\n",
       "      <th>Pclass</th>\n",
       "      <th>Name</th>\n",
       "      <th>Sex</th>\n",
       "      <th>Age</th>\n",
       "      <th>SibSp</th>\n",
       "      <th>Parch</th>\n",
       "      <th>Ticket</th>\n",
       "      <th>Fare</th>\n",
       "      <th>Cabin</th>\n",
       "      <th>Embarked</th>\n",
       "    </tr>\n",
       "  </thead>\n",
       "  <tbody>\n",
       "    <tr>\n",
       "      <th>0</th>\n",
       "      <td>1</td>\n",
       "      <td>0</td>\n",
       "      <td>3</td>\n",
       "      <td>Braund, Mr. Owen Harris</td>\n",
       "      <td>male</td>\n",
       "      <td>22.0</td>\n",
       "      <td>1</td>\n",
       "      <td>0</td>\n",
       "      <td>A/5 21171</td>\n",
       "      <td>7.2500</td>\n",
       "      <td>NaN</td>\n",
       "      <td>S</td>\n",
       "    </tr>\n",
       "    <tr>\n",
       "      <th>1</th>\n",
       "      <td>2</td>\n",
       "      <td>1</td>\n",
       "      <td>1</td>\n",
       "      <td>Cumings, Mrs. John Bradley (Florence Briggs Th...</td>\n",
       "      <td>female</td>\n",
       "      <td>38.0</td>\n",
       "      <td>1</td>\n",
       "      <td>0</td>\n",
       "      <td>PC 17599</td>\n",
       "      <td>71.2833</td>\n",
       "      <td>C85</td>\n",
       "      <td>C</td>\n",
       "    </tr>\n",
       "    <tr>\n",
       "      <th>2</th>\n",
       "      <td>3</td>\n",
       "      <td>1</td>\n",
       "      <td>3</td>\n",
       "      <td>Heikkinen, Miss. Laina</td>\n",
       "      <td>female</td>\n",
       "      <td>26.0</td>\n",
       "      <td>0</td>\n",
       "      <td>0</td>\n",
       "      <td>STON/O2. 3101282</td>\n",
       "      <td>7.9250</td>\n",
       "      <td>NaN</td>\n",
       "      <td>S</td>\n",
       "    </tr>\n",
       "    <tr>\n",
       "      <th>3</th>\n",
       "      <td>4</td>\n",
       "      <td>1</td>\n",
       "      <td>1</td>\n",
       "      <td>Futrelle, Mrs. Jacques Heath (Lily May Peel)</td>\n",
       "      <td>female</td>\n",
       "      <td>35.0</td>\n",
       "      <td>1</td>\n",
       "      <td>0</td>\n",
       "      <td>113803</td>\n",
       "      <td>53.1000</td>\n",
       "      <td>C123</td>\n",
       "      <td>S</td>\n",
       "    </tr>\n",
       "    <tr>\n",
       "      <th>4</th>\n",
       "      <td>5</td>\n",
       "      <td>0</td>\n",
       "      <td>3</td>\n",
       "      <td>Allen, Mr. William Henry</td>\n",
       "      <td>male</td>\n",
       "      <td>35.0</td>\n",
       "      <td>0</td>\n",
       "      <td>0</td>\n",
       "      <td>373450</td>\n",
       "      <td>8.0500</td>\n",
       "      <td>NaN</td>\n",
       "      <td>S</td>\n",
       "    </tr>\n",
       "  </tbody>\n",
       "</table>\n",
       "</div>"
      ],
      "text/plain": [
       "   PassengerId  Survived  Pclass  \\\n",
       "0            1         0       3   \n",
       "1            2         1       1   \n",
       "2            3         1       3   \n",
       "3            4         1       1   \n",
       "4            5         0       3   \n",
       "\n",
       "                                                Name     Sex   Age  SibSp  \\\n",
       "0                            Braund, Mr. Owen Harris    male  22.0      1   \n",
       "1  Cumings, Mrs. John Bradley (Florence Briggs Th...  female  38.0      1   \n",
       "2                             Heikkinen, Miss. Laina  female  26.0      0   \n",
       "3       Futrelle, Mrs. Jacques Heath (Lily May Peel)  female  35.0      1   \n",
       "4                           Allen, Mr. William Henry    male  35.0      0   \n",
       "\n",
       "   Parch            Ticket     Fare Cabin Embarked  \n",
       "0      0         A/5 21171   7.2500   NaN        S  \n",
       "1      0          PC 17599  71.2833   C85        C  \n",
       "2      0  STON/O2. 3101282   7.9250   NaN        S  \n",
       "3      0            113803  53.1000  C123        S  \n",
       "4      0            373450   8.0500   NaN        S  "
      ]
     },
     "execution_count": 3,
     "metadata": {},
     "output_type": "execute_result"
    }
   ],
   "source": [
    "df_train.head()"
   ]
  },
  {
   "cell_type": "code",
   "execution_count": 4,
   "metadata": {
    "collapsed": false
   },
   "outputs": [
    {
     "data": {
      "text/plain": [
       "PassengerId      int64\n",
       "Survived         int64\n",
       "Pclass           int64\n",
       "Name            object\n",
       "Sex             object\n",
       "Age            float64\n",
       "SibSp            int64\n",
       "Parch            int64\n",
       "Ticket          object\n",
       "Fare           float64\n",
       "Cabin           object\n",
       "Embarked        object\n",
       "dtype: object"
      ]
     },
     "execution_count": 4,
     "metadata": {},
     "output_type": "execute_result"
    }
   ],
   "source": [
    "df_train.dtypes"
   ]
  },
  {
   "cell_type": "code",
   "execution_count": 5,
   "metadata": {
    "collapsed": false
   },
   "outputs": [
    {
     "data": {
      "text/html": [
       "<div>\n",
       "<table border=\"1\" class=\"dataframe\">\n",
       "  <thead>\n",
       "    <tr style=\"text-align: right;\">\n",
       "      <th></th>\n",
       "      <th>PassengerId</th>\n",
       "      <th>Survived</th>\n",
       "      <th>Pclass</th>\n",
       "      <th>Age</th>\n",
       "      <th>SibSp</th>\n",
       "      <th>Parch</th>\n",
       "      <th>Fare</th>\n",
       "    </tr>\n",
       "  </thead>\n",
       "  <tbody>\n",
       "    <tr>\n",
       "      <th>count</th>\n",
       "      <td>891.000000</td>\n",
       "      <td>891.000000</td>\n",
       "      <td>891.000000</td>\n",
       "      <td>714.000000</td>\n",
       "      <td>891.000000</td>\n",
       "      <td>891.000000</td>\n",
       "      <td>891.000000</td>\n",
       "    </tr>\n",
       "    <tr>\n",
       "      <th>mean</th>\n",
       "      <td>446.000000</td>\n",
       "      <td>0.383838</td>\n",
       "      <td>2.308642</td>\n",
       "      <td>29.699118</td>\n",
       "      <td>0.523008</td>\n",
       "      <td>0.381594</td>\n",
       "      <td>32.204208</td>\n",
       "    </tr>\n",
       "    <tr>\n",
       "      <th>std</th>\n",
       "      <td>257.353842</td>\n",
       "      <td>0.486592</td>\n",
       "      <td>0.836071</td>\n",
       "      <td>14.526497</td>\n",
       "      <td>1.102743</td>\n",
       "      <td>0.806057</td>\n",
       "      <td>49.693429</td>\n",
       "    </tr>\n",
       "    <tr>\n",
       "      <th>min</th>\n",
       "      <td>1.000000</td>\n",
       "      <td>0.000000</td>\n",
       "      <td>1.000000</td>\n",
       "      <td>0.420000</td>\n",
       "      <td>0.000000</td>\n",
       "      <td>0.000000</td>\n",
       "      <td>0.000000</td>\n",
       "    </tr>\n",
       "    <tr>\n",
       "      <th>25%</th>\n",
       "      <td>223.500000</td>\n",
       "      <td>0.000000</td>\n",
       "      <td>2.000000</td>\n",
       "      <td>20.125000</td>\n",
       "      <td>0.000000</td>\n",
       "      <td>0.000000</td>\n",
       "      <td>7.910400</td>\n",
       "    </tr>\n",
       "    <tr>\n",
       "      <th>50%</th>\n",
       "      <td>446.000000</td>\n",
       "      <td>0.000000</td>\n",
       "      <td>3.000000</td>\n",
       "      <td>28.000000</td>\n",
       "      <td>0.000000</td>\n",
       "      <td>0.000000</td>\n",
       "      <td>14.454200</td>\n",
       "    </tr>\n",
       "    <tr>\n",
       "      <th>75%</th>\n",
       "      <td>668.500000</td>\n",
       "      <td>1.000000</td>\n",
       "      <td>3.000000</td>\n",
       "      <td>38.000000</td>\n",
       "      <td>1.000000</td>\n",
       "      <td>0.000000</td>\n",
       "      <td>31.000000</td>\n",
       "    </tr>\n",
       "    <tr>\n",
       "      <th>max</th>\n",
       "      <td>891.000000</td>\n",
       "      <td>1.000000</td>\n",
       "      <td>3.000000</td>\n",
       "      <td>80.000000</td>\n",
       "      <td>8.000000</td>\n",
       "      <td>6.000000</td>\n",
       "      <td>512.329200</td>\n",
       "    </tr>\n",
       "  </tbody>\n",
       "</table>\n",
       "</div>"
      ],
      "text/plain": [
       "       PassengerId    Survived      Pclass         Age       SibSp  \\\n",
       "count   891.000000  891.000000  891.000000  714.000000  891.000000   \n",
       "mean    446.000000    0.383838    2.308642   29.699118    0.523008   \n",
       "std     257.353842    0.486592    0.836071   14.526497    1.102743   \n",
       "min       1.000000    0.000000    1.000000    0.420000    0.000000   \n",
       "25%     223.500000    0.000000    2.000000   20.125000    0.000000   \n",
       "50%     446.000000    0.000000    3.000000   28.000000    0.000000   \n",
       "75%     668.500000    1.000000    3.000000   38.000000    1.000000   \n",
       "max     891.000000    1.000000    3.000000   80.000000    8.000000   \n",
       "\n",
       "            Parch        Fare  \n",
       "count  891.000000  891.000000  \n",
       "mean     0.381594   32.204208  \n",
       "std      0.806057   49.693429  \n",
       "min      0.000000    0.000000  \n",
       "25%      0.000000    7.910400  \n",
       "50%      0.000000   14.454200  \n",
       "75%      0.000000   31.000000  \n",
       "max      6.000000  512.329200  "
      ]
     },
     "execution_count": 5,
     "metadata": {},
     "output_type": "execute_result"
    }
   ],
   "source": [
    "df_train.describe()"
   ]
  },
  {
   "cell_type": "code",
   "execution_count": 6,
   "metadata": {
    "collapsed": false
   },
   "outputs": [
    {
     "data": {
      "image/png": "[encoded data removed]",
      "text/plain": [
       "<matplotlib.figure.Figure at 0x1dee55c0dd8>"
      ]
     },
     "metadata": {},
     "output_type": "display_data"
    }
   ],
   "source": [
    "count_f = df_train[df_train[\"Sex\"] == \"female\"].sum()\n",
    "count_m = df_train[df_train[\"Sex\"] == \"male\"].sum()\n",
    "\n",
    "ax = sns.barplot(x=\"Sex\", y=\"Survived\", hue=\"Pclass\", data=df_train)"
   ]
  },
  {
   "cell_type": "code",
   "execution_count": 7,
   "metadata": {
    "collapsed": false
   },
   "outputs": [
    {
     "data": {
      "text/html": [
       "<div>\n",
       "<table border=\"1\" class=\"dataframe\">\n",
       "  <thead>\n",
       "    <tr style=\"text-align: right;\">\n",
       "      <th></th>\n",
       "      <th>PassengerId</th>\n",
       "      <th>Survived</th>\n",
       "      <th>Pclass</th>\n",
       "      <th>Age</th>\n",
       "      <th>SibSp</th>\n",
       "      <th>Parch</th>\n",
       "      <th>Fare</th>\n",
       "    </tr>\n",
       "  </thead>\n",
       "  <tbody>\n",
       "    <tr>\n",
       "      <th>PassengerId</th>\n",
       "      <td>1.000000</td>\n",
       "      <td>-0.005007</td>\n",
       "      <td>-0.035144</td>\n",
       "      <td>0.036847</td>\n",
       "      <td>-0.057527</td>\n",
       "      <td>-0.001652</td>\n",
       "      <td>0.012658</td>\n",
       "    </tr>\n",
       "    <tr>\n",
       "      <th>Survived</th>\n",
       "      <td>-0.005007</td>\n",
       "      <td>1.000000</td>\n",
       "      <td>-0.338481</td>\n",
       "      <td>-0.077221</td>\n",
       "      <td>-0.035322</td>\n",
       "      <td>0.081629</td>\n",
       "      <td>0.257307</td>\n",
       "    </tr>\n",
       "    <tr>\n",
       "      <th>Pclass</th>\n",
       "      <td>-0.035144</td>\n",
       "      <td>-0.338481</td>\n",
       "      <td>1.000000</td>\n",
       "      <td>-0.369226</td>\n",
       "      <td>0.083081</td>\n",
       "      <td>0.018443</td>\n",
       "      <td>-0.549500</td>\n",
       "    </tr>\n",
       "    <tr>\n",
       "      <th>Age</th>\n",
       "      <td>0.036847</td>\n",
       "      <td>-0.077221</td>\n",
       "      <td>-0.369226</td>\n",
       "      <td>1.000000</td>\n",
       "      <td>-0.308247</td>\n",
       "      <td>-0.189119</td>\n",
       "      <td>0.096067</td>\n",
       "    </tr>\n",
       "    <tr>\n",
       "      <th>SibSp</th>\n",
       "      <td>-0.057527</td>\n",
       "      <td>-0.035322</td>\n",
       "      <td>0.083081</td>\n",
       "      <td>-0.308247</td>\n",
       "      <td>1.000000</td>\n",
       "      <td>0.414838</td>\n",
       "      <td>0.159651</td>\n",
       "    </tr>\n",
       "    <tr>\n",
       "      <th>Parch</th>\n",
       "      <td>-0.001652</td>\n",
       "      <td>0.081629</td>\n",
       "      <td>0.018443</td>\n",
       "      <td>-0.189119</td>\n",
       "      <td>0.414838</td>\n",
       "      <td>1.000000</td>\n",
       "      <td>0.216225</td>\n",
       "    </tr>\n",
       "    <tr>\n",
       "      <th>Fare</th>\n",
       "      <td>0.012658</td>\n",
       "      <td>0.257307</td>\n",
       "      <td>-0.549500</td>\n",
       "      <td>0.096067</td>\n",
       "      <td>0.159651</td>\n",
       "      <td>0.216225</td>\n",
       "      <td>1.000000</td>\n",
       "    </tr>\n",
       "  </tbody>\n",
       "</table>\n",
       "</div>"
      ],
      "text/plain": [
       "             PassengerId  Survived    Pclass       Age     SibSp     Parch  \\\n",
       "PassengerId     1.000000 -0.005007 -0.035144  0.036847 -0.057527 -0.001652   \n",
       "Survived       -0.005007  1.000000 -0.338481 -0.077221 -0.035322  0.081629   \n",
       "Pclass         -0.035144 -0.338481  1.000000 -0.369226  0.083081  0.018443   \n",
       "Age             0.036847 -0.077221 -0.369226  1.000000 -0.308247 -0.189119   \n",
       "SibSp          -0.057527 -0.035322  0.083081 -0.308247  1.000000  0.414838   \n",
       "Parch          -0.001652  0.081629  0.018443 -0.189119  0.414838  1.000000   \n",
       "Fare            0.012658  0.257307 -0.549500  0.096067  0.159651  0.216225   \n",
       "\n",
       "                 Fare  \n",
       "PassengerId  0.012658  \n",
       "Survived     0.257307  \n",
       "Pclass      -0.549500  \n",
       "Age          0.096067  \n",
       "SibSp        0.159651  \n",
       "Parch        0.216225  \n",
       "Fare         1.000000  "
      ]
     },
     "execution_count": 7,
     "metadata": {},
     "output_type": "execute_result"
    }
   ],
   "source": [
    "df_train.corr()"
   ]
  },
  {
   "cell_type": "code",
   "execution_count": 8,
   "metadata": {
    "collapsed": false
   },
   "outputs": [
    {
     "data": {
      "text/plain": [
       "Age            NaN\n",
       "Fare           NaN\n",
       "Parch          NaN\n",
       "PassengerId    1.0\n",
       "Pclass         NaN\n",
       "SibSp          NaN\n",
       "Survived       1.0\n",
       "dtype: float64"
      ]
     },
     "execution_count": 8,
     "metadata": {},
     "output_type": "execute_result"
    }
   ],
   "source": [
    "df_train.corrwith(df_train[[\"Survived\", \"PassengerId\"]])"
   ]
  },
  {
   "cell_type": "code",
   "execution_count": 9,
   "metadata": {
    "collapsed": false
   },
   "outputs": [],
   "source": [
    "df_total = df_total.dropna(axis=0, how=\"any\")"
   ]
  },
  {
   "cell_type": "code",
   "execution_count": 10,
   "metadata": {
    "collapsed": false
   },
   "outputs": [],
   "source": [
    "x_train, x_test, y_train, y_test = train_test_split(df_total[['Pclass', 'Age', 'Sex', 'SibSp']], df_total['Survived'])"
   ]
  },
  {
   "cell_type": "code",
   "execution_count": 11,
   "metadata": {
    "collapsed": true
   },
   "outputs": [],
   "source": [
    "d = {'female': 0, 'male': 1}\n",
    "x_train['Sex'] = x_train['Sex'].map(d)\n",
    "x_test['Sex'] = x_test['Sex'].map(d)"
   ]
  },
  {
   "cell_type": "code",
   "execution_count": 12,
   "metadata": {
    "collapsed": false
   },
   "outputs": [],
   "source": [
    "x_train = x_train.as_matrix()\n"
   ]
  },
  {
   "cell_type": "code",
   "execution_count": 13,
   "metadata": {
    "collapsed": false
   },
   "outputs": [
    {
     "name": "stdout",
     "output_type": "stream",
     "text": [
      "[[  1.   56.    1.    0. ]\n",
      " [  1.   42.    1.    1. ]\n",
      " [  1.   21.    0.    2. ]\n",
      " [  1.   53.    0.    2. ]\n",
      " [  1.   30.    0.    0. ]\n",
      " [  1.   22.    0.    1. ]\n",
      " [  1.   25.    1.    1. ]\n",
      " [  1.   45.    1.    1. ]\n",
      " [  1.   24.    0.    0. ]\n",
      " [  1.   18.    1.    1. ]\n",
      " [  2.   23.    0.    0. ]\n",
      " [  1.   28.    1.    0. ]\n",
      " [  1.   18.    0.    2. ]\n",
      " [  2.   36.    0.    0. ]\n",
      " [  2.    2.    1.    1. ]\n",
      " [  1.   64.    1.    1. ]\n",
      " [  3.    2.    0.    0. ]\n",
      " [  1.   24.    0.    0. ]\n",
      " [  1.   58.    0.    0. ]\n",
      " [  1.   29.    1.    1. ]\n",
      " [  1.   47.    0.    1. ]\n",
      " [  2.   29.    0.    0. ]\n",
      " [  3.   42.    1.    0. ]\n",
      " [  1.   27.    1.    1. ]\n",
      " [  1.   44.    0.    0. ]\n",
      " [  1.   50.    0.    0. ]\n",
      " [  1.   31.    1.    1. ]\n",
      " [  1.   44.    0.    0. ]\n",
      " [  2.   34.    0.    0. ]\n",
      " [  1.   35.    1.    0. ]\n",
      " [  1.   36.    1.    0. ]\n",
      " [  1.   56.    1.    0. ]\n",
      " [  1.   22.    0.    0. ]\n",
      " [  1.   25.    0.    1. ]\n",
      " [  1.   17.    0.    1. ]\n",
      " [  1.   21.    0.    0. ]\n",
      " [  1.   41.    0.    0. ]\n",
      " [  1.   42.    1.    0. ]\n",
      " [  1.   58.    1.    0. ]\n",
      " [  1.   36.    1.    0. ]\n",
      " [  1.   60.    0.    1. ]\n",
      " [  1.   46.    1.    1. ]\n",
      " [  1.   32.    0.    0. ]\n",
      " [  1.   24.    1.    0. ]\n",
      " [  3.   32.    1.    0. ]\n",
      " [  1.   55.    1.    0. ]\n",
      " [  1.   23.    1.    0. ]\n",
      " [  1.   27.    1.    0. ]\n",
      " [  2.   34.    1.    0. ]\n",
      " [  1.   61.    1.    0. ]\n",
      " [  1.   29.    0.    0. ]\n",
      " [  1.   23.    0.    1. ]\n",
      " [  1.   38.    1.    1. ]\n",
      " [  2.   36.    1.    0. ]\n",
      " [  1.   16.    0.    0. ]\n",
      " [  1.   39.    0.    1. ]\n",
      " [  1.   26.    1.    0. ]\n",
      " [  1.   22.    0.    0. ]\n",
      " [  1.   38.    0.    1. ]\n",
      " [  1.   50.    1.    1. ]\n",
      " [  1.   40.    1.    0. ]\n",
      " [  1.   40.    1.    0. ]\n",
      " [  1.   47.    1.    0. ]\n",
      " [  1.   48.    1.    1. ]\n",
      " [  1.   39.    1.    0. ]\n",
      " [  1.   19.    1.    1. ]\n",
      " [  1.   52.    0.    1. ]\n",
      " [  1.   39.    0.    1. ]\n",
      " [  1.   54.    1.    0. ]\n",
      " [  1.   30.    0.    0. ]\n",
      " [  1.   48.    1.    1. ]\n",
      " [  1.   48.    0.    1. ]\n",
      " [  1.   54.    1.    0. ]\n",
      " [  1.   49.    0.    0. ]\n",
      " [  1.   35.    0.    0. ]\n",
      " [  1.   51.    1.    0. ]\n",
      " [  1.   36.    1.    1. ]\n",
      " [  1.   28.    1.    0. ]\n",
      " [  1.   31.    1.    0. ]\n",
      " [  1.   29.    1.    0. ]\n",
      " [  1.   31.    1.    1. ]\n",
      " [  1.   23.    0.    3. ]\n",
      " [  1.   31.    0.    1. ]\n",
      " [  1.   49.    0.    1. ]\n",
      " [  1.   40.    0.    0. ]\n",
      " [  2.    1.    1.    2. ]\n",
      " [  1.   14.    0.    1. ]\n",
      " [  3.    6.    1.    0. ]\n",
      " [  1.   47.    1.    0. ]\n",
      " [  1.   48.    1.    0. ]\n",
      " [  3.   19.    1.    0. ]\n",
      " [  1.   30.    0.    0. ]\n",
      " [  1.   19.    0.    1. ]\n",
      " [  1.   18.    0.    1. ]\n",
      " [  1.   62.    1.    0. ]\n",
      " [  1.   35.    0.    1. ]\n",
      " [  1.   38.    0.    0. ]\n",
      " [  1.    2.    0.    1. ]\n",
      " [  1.   37.    1.    1. ]\n",
      " [  3.   29.    0.    1. ]\n",
      " [  3.   27.    0.    0. ]\n",
      " [  2.   57.    0.    0. ]\n",
      " [  1.   21.    1.    0. ]\n",
      " [  2.   36.5   1.    0. ]\n",
      " [  1.   36.    0.    0. ]\n",
      " [  1.   33.    0.    0. ]\n",
      " [  1.   44.    1.    2. ]\n",
      " [  1.   39.    0.    1. ]\n",
      " [  2.   27.    0.    0. ]\n",
      " [  1.   24.    0.    3. ]\n",
      " [  1.   70.    1.    1. ]\n",
      " [  1.   45.    1.    0. ]\n",
      " [  1.   60.    1.    1. ]\n",
      " [  1.   61.    1.    0. ]\n",
      " [  1.   19.    1.    3. ]\n",
      " [  1.   65.    1.    0. ]\n",
      " [  1.   35.    1.    0. ]\n",
      " [  1.   35.    0.    1. ]\n",
      " [  1.   43.    0.    0. ]\n",
      " [  1.   24.    1.    0. ]\n",
      " [  1.   45.    1.    0. ]\n",
      " [  1.   37.    1.    0. ]\n",
      " [  2.   32.5   0.    0. ]\n",
      " [  1.   37.    1.    1. ]\n",
      " [  1.   58.    1.    0. ]\n",
      " [  1.   17.    1.    0. ]\n",
      " [  1.   58.    0.    0. ]\n",
      " [  1.   71.    1.    0. ]\n",
      " [  1.   24.    0.    0. ]\n",
      " [  1.   45.5   1.    0. ]\n",
      " [  3.   25.    1.    0. ]\n",
      " [  1.   49.    1.    1. ]\n",
      " [  2.    3.    1.    1. ]\n",
      " [  1.   47.    1.    0. ]\n",
      " [  1.   48.    0.    0. ]\n",
      " [  1.   32.    1.    0. ]\n",
      " [  1.   52.    1.    0. ]]\n"
     ]
    }
   ],
   "source": [
    "print(x_train)"
   ]
  },
  {
   "cell_type": "code",
   "execution_count": 15,
   "metadata": {
    "collapsed": false
   },
   "outputs": [],
   "source": [
    "neigh = KNeighborsClassifier(n_neighbors=3).fit(x_train, y_train)"
   ]
  },
  {
   "cell_type": "code",
   "execution_count": 19,
   "metadata": {
    "collapsed": false
   },
   "outputs": [
    {
     "name": "stdout",
     "output_type": "stream",
     "text": [
      "[ 1.  1.  1.  1.  0.  0.  1.  1.  1.  1.  0.  1.  1.  0.  1.  1.  1.  1.\n",
      "  0.  1.  1.  1.  1.  1.  1.  0.  1.  1.  1.  0.  1.  1.  0.  1.  1.  1.\n",
      "  1.  1.  0.  1.  1.  1.  1.  1.  0.  1.]\n",
      "268    1.0\n",
      "591    1.0\n",
      "319    1.0\n",
      "329    1.0\n",
      "789    0.0\n",
      "630    1.0\n",
      "679    1.0\n",
      "585    1.0\n",
      "781    1.0\n",
      "394    1.0\n",
      "462    0.0\n",
      "310    1.0\n",
      "305    1.0\n",
      "370    1.0\n",
      "453    1.0\n",
      "698    0.0\n",
      "887    1.0\n",
      "136    1.0\n",
      "765    1.0\n",
      "689    1.0\n",
      "802    1.0\n",
      "872    0.0\n",
      "618    1.0\n",
      "809    1.0\n",
      "741    0.0\n",
      "879    1.0\n",
      "10     1.0\n",
      "262    0.0\n",
      "681    1.0\n",
      "544    0.0\n",
      "445    1.0\n",
      "583    0.0\n",
      "54     0.0\n",
      "299    1.0\n",
      "345    1.0\n",
      "318    1.0\n",
      "412    1.0\n",
      "486    1.0\n",
      "496    1.0\n",
      "540    1.0\n",
      "452    0.0\n",
      "577    1.0\n",
      "332    0.0\n",
      "504    1.0\n",
      "275    1.0\n",
      "763    1.0\n",
      "Name: Survived, dtype: float64\n"
     ]
    }
   ],
   "source": [
    "print(neigh.predict(x_test))\n",
    "print(y_test)"
   ]
  }
 ],
 "metadata": {
  "kernelspec": {
   "display_name": "Python 3",
   "language": "python",
   "name": "python3"
  },
  "language_info": {
   "codemirror_mode": {
    "name": "ipython",
    "version": 3
   },
   "file_extension": ".py",
   "mimetype": "text/x-python",
   "name": "python",
   "nbconvert_exporter": "python",
   "pygments_lexer": "ipython3",
   "version": "3.6.0"
  }
 },
 "nbformat": 4,
 "nbformat_minor": 2
}
