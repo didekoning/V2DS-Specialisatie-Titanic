{
 "cells": [
  {
   "cell_type": "code",
   "execution_count": 2,
   "metadata": {
    "collapsed": false
   },
   "outputs": [],
   "source": [
    "import numpy as np\n",
    "import pandas as pd\n",
    "\n",
    "import matplotlib.pyplot as plt\n",
    "%matplotlib inline\n",
    "\n",
    "from sklearn.neighbors import KNeighborsClassifier"
   ]
  },
  {
   "cell_type": "code",
   "execution_count": 3,
   "metadata": {
    "collapsed": true
   },
   "outputs": [],
   "source": [
    "df_train = pd.read_csv('train.csv')\n",
    "df_test = pd.read_csv('test.csv')"
   ]
  },
  {
   "cell_type": "markdown",
   "metadata": {},
   "source": [
    "## Er wordt gesplitst op verschillende leeftijdsgroepen, ook wordt er meteen gesorteerd op overlevende om de grafiek zometeen makkelijker te kunnen maken"
   ]
  },
  {
   "cell_type": "code",
   "execution_count": 135,
   "metadata": {
    "collapsed": false
   },
   "outputs": [],
   "source": [
    "df_young_survived = df_train[(df_train['Age'] < 20) & (df_train['Survived'] == 1)].count()\n",
    "df_young_died = df_train[(df_train['Age'] < 20) & (df_train['Survived'] == 0)].count()\n",
    "\n",
    "df_20p_survived = df_train[(df_train[\"Age\"] <= 30) & (df_train[\"Age\"] >= 20) & (df_train['Survived'] == 1)].count()\n",
    "df_20p_died = df_train[(df_train[\"Age\"] <= 30) & (df_train[\"Age\"] >= 20) & (df_train['Survived'] == 0)].count()\n",
    "\n",
    "df_30p_survived = df_train[(df_train[\"Age\"] < 40) & (df_train[\"Age\"] >= 30)& (df_train['Survived'] == 1)].count()\n",
    "df_30p_died = df_train[(df_train[\"Age\"] < 40) & (df_train[\"Age\"] >= 30)& (df_train['Survived'] == 0)].count()\n",
    "\n",
    "df_40p_survived = df_train[(df_train[\"Age\"] <50 ) & (df_train[\"Age\"] >= 40)& (df_train['Survived'] == 1)].count()\n",
    "df_40p_died = df_train[(df_train[\"Age\"] <50 ) & (df_train[\"Age\"] >= 40)& (df_train['Survived'] == 0)].count()\n",
    "\n",
    "df_O_survived = df_train[(df_train['Age'] > 50 ) & (df_train['Survived'] == 1)].count()\n",
    "df_O_died = df_train[(df_train['Age'] > 50) & (df_train['Survived'] == 0)].count()\n",
    "\n",
    "df_NaN_survived = df_train[(df_train.Age.isnull())  & (df_train['Survived'] == 1)].count()\n",
    "df_NaN_died = df_train[(df_train.Age.isnull())  & (df_train['Survived'] == 0)].count()\n"
   ]
  },
  {
   "cell_type": "markdown",
   "metadata": {},
   "source": [
    "## Hieronder wordt  er eerst een ruw databestand aangemaakt en vervolgens omgezet naar een dataframe die gebruikt gaat worden binnen matplotlib"
   ]
  },
  {
   "cell_type": "code",
   "execution_count": 142,
   "metadata": {
    "collapsed": false
   },
   "outputs": [],
   "source": [
    "raw_data ={\n",
    "    'ageclasses': ['young', '20-30', '30-40', '40-50', '50+','Age Not Available'],\n",
    "    'survived': [df_young_survived.Survived , df_20p_survived.Survived , df_30p_survived.Survived , df_40p_survived.Survived , df_O_survived.Survived , df_NaN_survived.Survived],\n",
    "    'died': [df_young_died.Survived , df_20p_died.Survived , df_30p_died.Survived , df_40p_died.Survived , df_O_died.Survived , df_NaN_died.Survived]\n",
    "}\n",
    "\n",
    "df_survivors = pd.DataFrame(raw_data, columns=['survived', 'died'])\n"
   ]
  },
  {
   "cell_type": "code",
   "execution_count": 144,
   "metadata": {
    "collapsed": false,
    "scrolled": true
   },
   "outputs": [
    {
     "data": {
      "image/png": "[encoded data removed]",
      "text/plain": [
       "<matplotlib.figure.Figure at 0x1fcb5777e48>"
      ]
     },
     "metadata": {},
     "output_type": "display_data"
    }
   ],
   "source": [
    "pos = list(range(len(df_survivors['died'])))\n",
    "width = 0.25\n",
    "\n",
    "fig, ax = plt.subplots(figsize=(10,5))\n",
    "\n",
    "plt.bar(pos,\n",
    "        df_survivors['survived'],\n",
    "        width,\n",
    "        alpha=0.5,\n",
    "        color='#5BC236',\n",
    "        label=raw_data['ageclasses'][0])\n",
    "plt.bar([p + width for p in pos],\n",
    "        df_survivors['died'],\n",
    "        width,\n",
    "        alpha=0.5,\n",
    "        color='#FF0000',\n",
    "        label=raw_data['ageclasses'][1])\n",
    "\n",
    "# Set the y axis label\n",
    "ax.set_ylabel('Amount of people')\n",
    "\n",
    "# Set the chart's title\n",
    "ax.set_title('People who died and survived the titanic crash per agegroup')\n",
    "\n",
    "# Set the position of the x ticks\n",
    "ax.set_xticks([p + 1.5 * width for p in pos])\n",
    "\n",
    "# Set the labels for the x ticks\n",
    "ax.set_xticklabels(raw_data['ageclasses'])\n",
    "\n",
    "# Setting the x-axis and y-axis limits\n",
    "plt.xlim(min(pos)-width, max(pos)+width*4)\n",
    "plt.ylim([0, max(df_survivors['survived'] + df_survivors['died'])] )\n",
    "\n",
    "# Adding the legend and showing the plot\n",
    "plt.legend(['Survived', 'died'], loc='upper left')\n",
    "plt.grid()\n",
    "plt.show()"
   ]
  },
  {
   "cell_type": "markdown",
   "metadata": {},
   "source": [
    "## In bovenstaand diagram is te zien dat de meeste bezoekers tussen de leeftijd 20-30 jaar ligt.  Ook is te zien dat het verschil tussen overlevende en doden bij mensen onder de 20 jaar het kleinst is."
   ]
  }
 ],
 "metadata": {
  "kernelspec": {
   "display_name": "Python 3",
   "language": "python",
   "name": "python3"
  },
  "language_info": {
   "codemirror_mode": {
    "name": "ipython",
    "version": 3
   },
   "file_extension": ".py",
   "mimetype": "text/x-python",
   "name": "python",
   "nbconvert_exporter": "python",
   "pygments_lexer": "ipython3",
   "version": "3.6.0"
  }
 },
 "nbformat": 4,
 "nbformat_minor": 2
}
