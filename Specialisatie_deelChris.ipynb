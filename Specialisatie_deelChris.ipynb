{
 "cells": [
  {
   "cell_type": "code",
   "execution_count": 1,
   "metadata": {
    "collapsed": false
   },
   "outputs": [],
   "source": [
    "import numpy as np\n",
    "import pandas as pd\n",
    "\n",
    "import matplotlib.pyplot as plt\n",
    "%matplotlib inline\n",
    "\n",
    "from sklearn.neighbors import KNeighborsClassifier"
   ]
  },
  {
   "cell_type": "code",
   "execution_count": 2,
   "metadata": {
    "collapsed": true
   },
   "outputs": [],
   "source": [
    "df_train = pd.read_csv('train.csv')\n",
    "df_test = pd.read_csv('test.csv')"
   ]
  },
  {
   "cell_type": "markdown",
   "metadata": {},
   "source": [
    "## Er wordt gesplitst op verschillende leeftijdsgroepen, ook wordt er meteen gesorteerd op overlevende om de grafiek zometeen makkelijker te kunnen maken"
   ]
  },
  {
   "cell_type": "code",
   "execution_count": 3,
   "metadata": {
    "collapsed": false
   },
   "outputs": [],
   "source": [
    "df_young_survived = df_train[(df_train['Age'] < 20) & (df_train['Survived'] == 1)].count()\n",
    "df_young_died = df_train[(df_train['Age'] < 20) & (df_train['Survived'] == 0)].count()\n",
    "\n",
    "df_20p_survived = df_train[(df_train[\"Age\"] <= 30) & (df_train[\"Age\"] >= 20) & (df_train['Survived'] == 1)].count()\n",
    "df_20p_died = df_train[(df_train[\"Age\"] <= 30) & (df_train[\"Age\"] >= 20) & (df_train['Survived'] == 0)].count()\n",
    "\n",
    "df_30p_survived = df_train[(df_train[\"Age\"] < 40) & (df_train[\"Age\"] >= 30)& (df_train['Survived'] == 1)].count()\n",
    "df_30p_died = df_train[(df_train[\"Age\"] < 40) & (df_train[\"Age\"] >= 30)& (df_train['Survived'] == 0)].count()\n",
    "\n",
    "df_40p_survived = df_train[(df_train[\"Age\"] <50 ) & (df_train[\"Age\"] >= 40)& (df_train['Survived'] == 1)].count()\n",
    "df_40p_died = df_train[(df_train[\"Age\"] <50 ) & (df_train[\"Age\"] >= 40)& (df_train['Survived'] == 0)].count()\n",
    "\n",
    "df_O_survived = df_train[(df_train['Age'] > 50 ) & (df_train['Survived'] == 1)].count()\n",
    "df_O_died = df_train[(df_train['Age'] > 50) & (df_train['Survived'] == 0)].count()\n",
    "\n",
    "df_NaN_survived = df_train[(df_train.Age.isnull())  & (df_train['Survived'] == 1)].count()\n",
    "df_NaN_died = df_train[(df_train.Age.isnull())  & (df_train['Survived'] == 0)].count()\n"
   ]
  },
  {
   "cell_type": "markdown",
   "metadata": {},
   "source": [
    "## Hieronder wordt  er eerst een ruw databestand aangemaakt en vervolgens omgezet naar een dataframe die gebruikt gaat worden binnen matplotlib"
   ]
  },
  {
   "cell_type": "code",
   "execution_count": 4,
   "metadata": {
    "collapsed": false
   },
   "outputs": [],
   "source": [
    "raw_data ={\n",
    "    'ageclasses': ['young', '20-30', '30-40', '40-50', '50+','Age Not Available'],\n",
    "    'survived': [df_young_survived.Survived , df_20p_survived.Survived , df_30p_survived.Survived , df_40p_survived.Survived , df_O_survived.Survived , df_NaN_survived.Survived],\n",
    "    'died': [df_young_died.Survived , df_20p_died.Survived , df_30p_died.Survived , df_40p_died.Survived , df_O_died.Survived , df_NaN_died.Survived]\n",
    "}\n",
    "\n",
    "df_survivors = pd.DataFrame(raw_data, columns=['survived', 'died'])\n"
   ]
  },
  {
   "cell_type": "code",
   "execution_count": 5,
   "metadata": {
    "collapsed": false,
    "scrolled": true
   },
   "outputs": [
    {
     "data": {
      "image/png": "[encoded data removed]",
      "text/plain": [
       "<matplotlib.figure.Figure at 0x1fa5a01abe0>"
      ]
     },
     "metadata": {},
     "output_type": "display_data"
    }
   ],
   "source": [
    "pos = list(range(len(df_survivors['died'])))\n",
    "width = 0.25\n",
    "\n",
    "fig, ax = plt.subplots(figsize=(10,5))\n",
    "\n",
    "plt.bar(pos,\n",
    "        df_survivors['survived'],\n",
    "        width,\n",
    "        alpha=0.5,\n",
    "        color='#5BC236',\n",
    "        label=raw_data['ageclasses'][0])\n",
    "plt.bar([p + width for p in pos],\n",
    "        df_survivors['died'],\n",
    "        width,\n",
    "        alpha=0.5,\n",
    "        color='#FF0000',\n",
    "        label=raw_data['ageclasses'][1])\n",
    "\n",
    "# Set the y axis label\n",
    "ax.set_ylabel('Amount of people')\n",
    "\n",
    "# Set the chart's title\n",
    "ax.set_title('People who died and survived the titanic crash per agegroup')\n",
    "\n",
    "# Set the position of the x ticks\n",
    "ax.set_xticks([p + 1.5 * width for p in pos])\n",
    "\n",
    "# Set the labels for the x ticks\n",
    "ax.set_xticklabels(raw_data['ageclasses'])\n",
    "\n",
    "# Setting the x-axis and y-axis limits\n",
    "plt.xlim(min(pos)-width, max(pos)+width*4)\n",
    "plt.ylim([0, max(df_survivors['survived'] + df_survivors['died'])] )\n",
    "\n",
    "# Adding the legend and showing the plot\n",
    "plt.legend(['Survived', 'died'], loc='upper left')\n",
    "plt.grid()\n",
    "plt.show()"
   ]
  },
  {
   "cell_type": "markdown",
   "metadata": {},
   "source": [
    "## In bovenstaand diagram is te zien dat de meeste bezoekers tussen de leeftijd 20-30 jaar ligt.  Ook is te zien dat het verschil tussen overlevende en doden bij mensen onder de 20 jaar het kleinst is."
   ]
  },
  {
   "cell_type": "markdown",
   "metadata": {
    "collapsed": false
   },
   "source": [
    "## Vervolgens is het de bedoeling dat er per titel gekeken wordt hoeveel mensen het hebben overleefd. Om dit te doen zullen de naamvelden gesplitst worden. De layout is als volgt : [voornaam] , [titel]. [achternaam]\n",
    "\n",
    "## Om deze dus te kunnen gebruiken moeten we in 2 stappen alles voor de comma en na de punt uitfilteren. Dat gebeurd hieronder. Vervolgens maakt hij 2 dataframes aan. Één met alle overlevende en één met alle overledenen. Hier kan dan uiteindelijk gekeken worden hoevaak elke titel weergegeven wordt."
   ]
  },
  {
   "cell_type": "code",
   "execution_count": 7,
   "metadata": {
    "collapsed": false
   },
   "outputs": [],
   "source": [
    "#namessplits = df_train['Name'].split()\n",
    "split1 = pd.DataFrame(df_train['Name'].str.split(\", \").tolist(), columns=['nutteloos','nodig'])\n",
    "split2 = pd.DataFrame(split1['nodig'].str.split(\". \",1).tolist(), columns=['nodig','nutteloos'])\n",
    "df_train['Title'] = split2['nodig']\n",
    "df_numbers = pd.DataFrame()\n",
    "df_survivors = df_train[df_train['Survived'] == 1]\n",
    "df_casualties = df_train[df_train['Survived'] == 0]"
   ]
  },
  {
   "cell_type": "code",
   "execution_count": 8,
   "metadata": {
    "collapsed": false
   },
   "outputs": [
    {
     "data": {
      "text/plain": [
       "Miss      127\n",
       "Mrs        99\n",
       "Mr         81\n",
       "Master     23\n",
       "Dr          3\n",
       "Mlle        2\n",
       "Col         1\n",
       "Lady        1\n",
       "Major       1\n",
       "Mme         1\n",
       "Ms          1\n",
       "Sir         1\n",
       "th          1\n",
       "Name: Title, dtype: int64"
      ]
     },
     "execution_count": 8,
     "metadata": {},
     "output_type": "execute_result"
    }
   ],
   "source": [
    "df_survivors['Title'].value_counts()"
   ]
  },
  {
   "cell_type": "code",
   "execution_count": 9,
   "metadata": {
    "collapsed": false
   },
   "outputs": [
    {
     "data": {
      "text/plain": [
       "Mr          436\n",
       "Miss         55\n",
       "Mrs          26\n",
       "Master       17\n",
       "Rev           6\n",
       "Dr            4\n",
       "Jonkheer      1\n",
       "Don           1\n",
       "Capt          1\n",
       "Col           1\n",
       "Major         1\n",
       "Name: Title, dtype: int64"
      ]
     },
     "execution_count": 9,
     "metadata": {},
     "output_type": "execute_result"
    }
   ],
   "source": [
    "df_casualties['Title'].value_counts()"
   ]
  },
  {
   "cell_type": "code",
   "execution_count": 10,
   "metadata": {
    "collapsed": false
   },
   "outputs": [
    {
     "data": {
      "text/plain": [
       "Mr          517\n",
       "Miss        182\n",
       "Mrs         125\n",
       "Master       40\n",
       "Dr            7\n",
       "Rev           6\n",
       "Col           2\n",
       "Major         2\n",
       "Mlle          2\n",
       "Jonkheer      1\n",
       "Sir           1\n",
       "Ms            1\n",
       "Mme           1\n",
       "Don           1\n",
       "Lady          1\n",
       "Capt          1\n",
       "th            1\n",
       "Name: Title, dtype: int64"
      ]
     },
     "execution_count": 10,
     "metadata": {},
     "output_type": "execute_result"
    }
   ],
   "source": [
    "df_train['Title'].value_counts()"
   ]
  },
  {
   "cell_type": "markdown",
   "metadata": {},
   "source": [
    "## Nadat alle losse counts zijn gedaan gaan we één nieuwe dataframe aanmaken waar ze alle drie in voorkomen. Dit om het plotten zometeen makkelijker te maken."
   ]
  },
  {
   "cell_type": "code",
   "execution_count": 11,
   "metadata": {
    "collapsed": false
   },
   "outputs": [],
   "source": [
    "df_numbers['Passengers'] = df_train['Title'].value_counts()\n",
    "df_numbers['Survivors'] = df_survivors['Title'].value_counts()\n",
    "df_numbers['Casualties'] = df_casualties['Title'].value_counts()"
   ]
  },
  {
   "cell_type": "code",
   "execution_count": 12,
   "metadata": {
    "collapsed": false
   },
   "outputs": [
    {
     "data": {
      "text/html": [
       "<div>\n",
       "<table border=\"1\" class=\"dataframe\">\n",
       "  <thead>\n",
       "    <tr style=\"text-align: right;\">\n",
       "      <th></th>\n",
       "      <th>Passengers</th>\n",
       "      <th>Survivors</th>\n",
       "      <th>Casualties</th>\n",
       "    </tr>\n",
       "  </thead>\n",
       "  <tbody>\n",
       "    <tr>\n",
       "      <th>Mr</th>\n",
       "      <td>517</td>\n",
       "      <td>81.0</td>\n",
       "      <td>436.0</td>\n",
       "    </tr>\n",
       "    <tr>\n",
       "      <th>Miss</th>\n",
       "      <td>182</td>\n",
       "      <td>127.0</td>\n",
       "      <td>55.0</td>\n",
       "    </tr>\n",
       "    <tr>\n",
       "      <th>Mrs</th>\n",
       "      <td>125</td>\n",
       "      <td>99.0</td>\n",
       "      <td>26.0</td>\n",
       "    </tr>\n",
       "    <tr>\n",
       "      <th>Master</th>\n",
       "      <td>40</td>\n",
       "      <td>23.0</td>\n",
       "      <td>17.0</td>\n",
       "    </tr>\n",
       "    <tr>\n",
       "      <th>Dr</th>\n",
       "      <td>7</td>\n",
       "      <td>3.0</td>\n",
       "      <td>4.0</td>\n",
       "    </tr>\n",
       "    <tr>\n",
       "      <th>Rev</th>\n",
       "      <td>6</td>\n",
       "      <td>NaN</td>\n",
       "      <td>6.0</td>\n",
       "    </tr>\n",
       "    <tr>\n",
       "      <th>Col</th>\n",
       "      <td>2</td>\n",
       "      <td>1.0</td>\n",
       "      <td>1.0</td>\n",
       "    </tr>\n",
       "    <tr>\n",
       "      <th>Major</th>\n",
       "      <td>2</td>\n",
       "      <td>1.0</td>\n",
       "      <td>1.0</td>\n",
       "    </tr>\n",
       "    <tr>\n",
       "      <th>Mlle</th>\n",
       "      <td>2</td>\n",
       "      <td>2.0</td>\n",
       "      <td>NaN</td>\n",
       "    </tr>\n",
       "    <tr>\n",
       "      <th>Jonkheer</th>\n",
       "      <td>1</td>\n",
       "      <td>NaN</td>\n",
       "      <td>1.0</td>\n",
       "    </tr>\n",
       "    <tr>\n",
       "      <th>Sir</th>\n",
       "      <td>1</td>\n",
       "      <td>1.0</td>\n",
       "      <td>NaN</td>\n",
       "    </tr>\n",
       "    <tr>\n",
       "      <th>Ms</th>\n",
       "      <td>1</td>\n",
       "      <td>1.0</td>\n",
       "      <td>NaN</td>\n",
       "    </tr>\n",
       "    <tr>\n",
       "      <th>Mme</th>\n",
       "      <td>1</td>\n",
       "      <td>1.0</td>\n",
       "      <td>NaN</td>\n",
       "    </tr>\n",
       "    <tr>\n",
       "      <th>Don</th>\n",
       "      <td>1</td>\n",
       "      <td>NaN</td>\n",
       "      <td>1.0</td>\n",
       "    </tr>\n",
       "    <tr>\n",
       "      <th>Lady</th>\n",
       "      <td>1</td>\n",
       "      <td>1.0</td>\n",
       "      <td>NaN</td>\n",
       "    </tr>\n",
       "    <tr>\n",
       "      <th>Capt</th>\n",
       "      <td>1</td>\n",
       "      <td>NaN</td>\n",
       "      <td>1.0</td>\n",
       "    </tr>\n",
       "    <tr>\n",
       "      <th>th</th>\n",
       "      <td>1</td>\n",
       "      <td>1.0</td>\n",
       "      <td>NaN</td>\n",
       "    </tr>\n",
       "  </tbody>\n",
       "</table>\n",
       "</div>"
      ],
      "text/plain": [
       "          Passengers  Survivors  Casualties\n",
       "Mr               517       81.0       436.0\n",
       "Miss             182      127.0        55.0\n",
       "Mrs              125       99.0        26.0\n",
       "Master            40       23.0        17.0\n",
       "Dr                 7        3.0         4.0\n",
       "Rev                6        NaN         6.0\n",
       "Col                2        1.0         1.0\n",
       "Major              2        1.0         1.0\n",
       "Mlle               2        2.0         NaN\n",
       "Jonkheer           1        NaN         1.0\n",
       "Sir                1        1.0         NaN\n",
       "Ms                 1        1.0         NaN\n",
       "Mme                1        1.0         NaN\n",
       "Don                1        NaN         1.0\n",
       "Lady               1        1.0         NaN\n",
       "Capt               1        NaN         1.0\n",
       "th                 1        1.0         NaN"
      ]
     },
     "execution_count": 12,
     "metadata": {},
     "output_type": "execute_result"
    }
   ],
   "source": [
    "df_numbers"
   ]
  },
  {
   "cell_type": "code",
   "execution_count": 13,
   "metadata": {
    "collapsed": false
   },
   "outputs": [
    {
     "data": {
      "image/png": "[encoded data removed]",
      "text/plain": [
       "<matplotlib.figure.Figure at 0x1fa5b1efb00>"
      ]
     },
     "metadata": {},
     "output_type": "display_data"
    }
   ],
   "source": [
    "pos = list(range(len(df_numbers['Passengers'])))\n",
    "width = 0.25\n",
    "\n",
    "fig, ax = plt.subplots(figsize=(15,20))\n",
    "\n",
    "plt.bar(pos,\n",
    "        df_numbers['Survivors'],\n",
    "        width,\n",
    "        alpha=0.5,\n",
    "        color='#5BC236',\n",
    "        label=raw_data['ageclasses'][0])\n",
    "plt.bar([p + width for p in pos],\n",
    "        df_numbers['Casualties'],\n",
    "        width,\n",
    "        alpha=0.5,\n",
    "        color='#FF0000',\n",
    "        label=raw_data['ageclasses'][1])\n",
    "\n",
    "# Set the y axis label\n",
    "ax.set_ylabel('Amount of people')\n",
    "\n",
    "# Set the chart's title\n",
    "ax.set_title('People who died and survived the titanic crash per title')\n",
    "\n",
    "# Set the position of the x ticks\n",
    "ax.set_xticks([p + 1.5 * width for p in pos])\n",
    "\n",
    "# Set the labels for the x ticks\n",
    "ax.set_xticklabels(df_numbers.index)\n",
    "\n",
    "# Setting the x-axis and y-axis limits\n",
    "plt.xlim(min(pos)-width, max(pos)+width*4)\n",
    "plt.ylim([0, max(df_numbers['Survivors'] + df_numbers['Casualties'])] )\n",
    "\n",
    "# Adding the legend and showing the plot\n",
    "plt.legend(['Survivors', 'Casualties'], loc='upper right')\n",
    "plt.grid()\n",
    "plt.show()"
   ]
  },
  {
   "cell_type": "markdown",
   "metadata": {
    "collapsed": false
   },
   "source": [
    "## Omdat in bovenstaande diagram een hoop onduidelijk is (behalve de 4 grote groepen) Zal hieronder  ervoor gekozen worden om de kleinere groepen samen te voegen tot 1 geheel, genaamd Overige. Hier is voor gekozen om het diagram overzichtelijk te maken"
   ]
  },
  {
   "cell_type": "code",
   "execution_count": 19,
   "metadata": {
    "collapsed": false
   },
   "outputs": [],
   "source": [
    "df_train['Title'] = np.where(df_train.Title.isin(['Lady','Countess','Rev','Capt','Col','Don','Dr','Major','Sir','Jonkheer','Dona','Mlle','Mme','Ms','th']),'Overige', df_train['Title'])"
   ]
  },
  {
   "cell_type": "markdown",
   "metadata": {},
   "source": [
    "## Hierboven is de splitsing gemaakt en heten alle overige titels nu Overige. Vervolgens moeten alle aantallen opnieuw getelt gan worden en opnieuw geplot worden in een diagram. Dat staat hieronder maar gebeurd hetzelfde als hierboven"
   ]
  },
  {
   "cell_type": "code",
   "execution_count": 20,
   "metadata": {
    "collapsed": false
   },
   "outputs": [
    {
     "data": {
      "text/html": [
       "<div>\n",
       "<table border=\"1\" class=\"dataframe\">\n",
       "  <thead>\n",
       "    <tr style=\"text-align: right;\">\n",
       "      <th></th>\n",
       "      <th>Passengers</th>\n",
       "      <th>Survivors</th>\n",
       "      <th>Casualties</th>\n",
       "    </tr>\n",
       "  </thead>\n",
       "  <tbody>\n",
       "    <tr>\n",
       "      <th>Mr</th>\n",
       "      <td>517</td>\n",
       "      <td>81</td>\n",
       "      <td>436</td>\n",
       "    </tr>\n",
       "    <tr>\n",
       "      <th>Miss</th>\n",
       "      <td>182</td>\n",
       "      <td>127</td>\n",
       "      <td>55</td>\n",
       "    </tr>\n",
       "    <tr>\n",
       "      <th>Mrs</th>\n",
       "      <td>125</td>\n",
       "      <td>99</td>\n",
       "      <td>26</td>\n",
       "    </tr>\n",
       "    <tr>\n",
       "      <th>Master</th>\n",
       "      <td>40</td>\n",
       "      <td>23</td>\n",
       "      <td>17</td>\n",
       "    </tr>\n",
       "    <tr>\n",
       "      <th>Overige</th>\n",
       "      <td>27</td>\n",
       "      <td>12</td>\n",
       "      <td>15</td>\n",
       "    </tr>\n",
       "  </tbody>\n",
       "</table>\n",
       "</div>"
      ],
      "text/plain": [
       "         Passengers  Survivors  Casualties\n",
       "Mr              517         81         436\n",
       "Miss            182        127          55\n",
       "Mrs             125         99          26\n",
       "Master           40         23          17\n",
       "Overige          27         12          15"
      ]
     },
     "execution_count": 20,
     "metadata": {},
     "output_type": "execute_result"
    }
   ],
   "source": [
    "#namessplits = df_train['Name'].split()\n",
    "df_numbers = pd.DataFrame()\n",
    "df_survivors = df_train[df_train['Survived'] == 1]\n",
    "df_casualties = df_train[df_train['Survived'] == 0]\n",
    "\n",
    "df_numbers['Passengers'] = df_train['Title'].value_counts()\n",
    "df_numbers['Survivors'] = df_survivors['Title'].value_counts()\n",
    "df_numbers['Casualties'] = df_casualties['Title'].value_counts()\n",
    "\n",
    "df_numbers"
   ]
  },
  {
   "cell_type": "code",
   "execution_count": 22,
   "metadata": {
    "collapsed": false
   },
   "outputs": [
    {
     "data": {
      "image/png": "[encoded data removed]",
      "text/plain": [
       "<matplotlib.figure.Figure at 0x1fa5b979668>"
      ]
     },
     "metadata": {},
     "output_type": "display_data"
    }
   ],
   "source": [
    "pos = list(range(len(df_numbers['Passengers'])))\n",
    "width = 0.25\n",
    "\n",
    "fig, ax = plt.subplots(figsize=(15,10))\n",
    "\n",
    "plt.bar(pos,\n",
    "        df_numbers['Survivors'],\n",
    "        width,\n",
    "        alpha=0.5,\n",
    "        color='#5BC236',\n",
    "        label=raw_data['ageclasses'][0])\n",
    "plt.bar([p + width for p in pos],\n",
    "        df_numbers['Casualties'],\n",
    "        width,\n",
    "        alpha=0.5,\n",
    "        color='#FF0000',\n",
    "        label=raw_data['ageclasses'][1])\n",
    "\n",
    "# Set the y axis label\n",
    "ax.set_ylabel('Amount of people')\n",
    "\n",
    "# Set the chart's title\n",
    "ax.set_title('People who died and survived the titanic crash per title')\n",
    "\n",
    "# Set the position of the x ticks\n",
    "ax.set_xticks([p + 1.5 * width for p in pos])\n",
    "\n",
    "# Set the labels for the x ticks\n",
    "ax.set_xticklabels(df_numbers.index)\n",
    "\n",
    "# Setting the x-axis and y-axis limits\n",
    "plt.xlim(min(pos)-width, max(pos)+width*4)\n",
    "plt.ylim([0, max(df_numbers['Survivors'] + df_numbers['Casualties'])] )\n",
    "\n",
    "# Adding the legend and showing the plot\n",
    "plt.legend(['Survivors', 'Casualties'], loc='upper right')\n",
    "plt.grid()\n",
    "plt.show()"
   ]
  },
  {
   "cell_type": "markdown",
   "metadata": {},
   "source": [
    "## In bovenstande diagram is de zien dat er tijdens het ongeluk de meeste mannen zijn overleden. Onder de vrouwen is te zien dat er bij getrouwde vrouwen (mrs) gemiddeld meer vrouwen overleven dan ongetrouwde vrouwen (miss)"
   ]
  },
  {
   "cell_type": "code",
   "execution_count": null,
   "metadata": {
    "collapsed": true
   },
   "outputs": [],
   "source": []
  }
 ],
 "metadata": {
  "kernelspec": {
   "display_name": "Python 3",
   "language": "python",
   "name": "python3"
  },
  "language_info": {
   "codemirror_mode": {
    "name": "ipython",
    "version": 3
   },
   "file_extension": ".py",
   "mimetype": "text/x-python",
   "name": "python",
   "nbconvert_exporter": "python",
   "pygments_lexer": "ipython3",
   "version": "3.6.0"
  }
 },
 "nbformat": 4,
 "nbformat_minor": 2
}
